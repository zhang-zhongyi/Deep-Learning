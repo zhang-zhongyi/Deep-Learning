{
 "cells": [
  {
   "cell_type": "markdown",
   "metadata": {
    "slideshow": {
     "slide_type": "slide"
    }
   },
   "source": [
    "# what is YOLO v2 (aka YOLO 9000)\n",
    "\n",
    "YOLO9000 is a high speed, real time detection algorithm that can detect on <b>OVER 9000!</b> (object categories)\n",
    "\n",
    "- you can read more about it here (https://arxiv.org/pdf/1612.08242.pdf)\n",
    "- watch a talk on it here (https://www.youtube.com/watch?v=NM6lrxy0bxs)\n",
    "- and another talk here (https://www.youtube.com/watch?v=4eIBisqx9_g)"
   ]
  },
  {
   "cell_type": "markdown",
   "metadata": {
    "slideshow": {
     "slide_type": "slide"
    }
   },
   "source": [
    "# Step1 - Requirements\n",
    "\n",
    "- <b>Python 3.5 or 3.6</b>. Anaconda (install tutorial https://www.youtube.com/watch?v=T8wK5loXkXg)\n",
    "- <b>Tensorflow</b> (tutorial GPU verions https://www.youtube.com/watch?v=RplXYjxgZbw&t=91s)\n",
    "- <b>openCV</b> (https://www.lfd.uci.edu/~gohlke/pythonlibs/)"
   ]
  },
  {
   "cell_type": "markdown",
   "metadata": {
    "slideshow": {
     "slide_type": "slide"
    }
   },
   "source": [
    "# Step2 - Download the Darkflow repo\n",
    "\n",
    "- https://github.com/thtrieu/darkflow\n",
    "- extract the files somewhere locally"
   ]
  },
  {
   "cell_type": "markdown",
   "metadata": {
    "slideshow": {
     "slide_type": "slide"
    }
   },
   "source": [
    "# Step3 - Build the library\n",
    "\n",
    "- open an ```cmd``` window and type\n",
    "\n",
    "```python\n",
    "python setup.py build_ext --inplace\n",
    "```\n",
    "\n",
    "OR\n",
    "\n",
    "```python\n",
    "pip install -e .\n",
    "```"
   ]
  },
  {
   "cell_type": "markdown",
   "metadata": {
    "slideshow": {
     "slide_type": "slide"
    }
   },
   "source": [
    "# Step 4 - Download a weights file\n",
    "\n",
    "- Download the YOLOv2 608x608 weights file here (https://pjreddie.com/darknet/yolov2/)\n",
    "- NOTE: there are other weights files you can try if you like\n",
    "- create a ```bin``` folder within the ```darkflow-master``` folder\n",
    "- put the weights file in the bin folder"
   ]
  },
  {
   "cell_type": "markdown",
   "metadata": {
    "slideshow": {
     "slide_type": "slide"
    }
   },
   "source": [
    "# Processing a video file\n",
    "\n",
    "- move the video file into the ``darkflow-master```\n",
    "- from there, open a ```cmd``` window\n",
    "- use the command\n",
    "\n",
    "```python\n",
    "python flow --model cfg/yolo.cfg --load bin/yolov2.weights --demo videofile.mp4 --gpu 1.0 --saveVideo\n",
    "```\n",
    "\n",
    "```videofile.mp4``` is the name of your video.\n",
    "\n",
    "NOTE: if you do not have the GPU version of tensorflow, leave off the ```--gpu 1.0```\n",
    "\n",
    "```--saveVideo``` indicates to save a name video file, which has the boxes around objects"
   ]
  }
 ],
 "metadata": {
  "celltoolbar": "Slideshow",
  "kernelspec": {
   "display_name": "Python [default]",
   "language": "python",
   "name": "python3"
  },
  "language_info": {
   "codemirror_mode": {
    "name": "ipython",
    "version": 3
   },
   "file_extension": ".py",
   "mimetype": "text/x-python",
   "name": "python",
   "nbconvert_exporter": "python",
   "pygments_lexer": "ipython3",
   "version": "3.5.4"
  }
 },
 "nbformat": 4,
 "nbformat_minor": 2
}
