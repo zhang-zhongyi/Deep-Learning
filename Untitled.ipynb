{
 "cells": [
  {
   "cell_type": "code",
   "execution_count": 2,
   "metadata": {},
   "outputs": [
    {
     "name": "stdout",
     "output_type": "stream",
     "text": [
      "Collecting pip\n",
      "\u001b[?25l  Downloading https://files.pythonhosted.org/packages/30/db/9e38760b32e3e7f40cce46dd5fb107b8c73840df38f0046d8e6514e675a1/pip-19.2.3-py2.py3-none-any.whl (1.4MB)\n",
      "\u001b[K     |████████████████████████████████| 1.4MB 2.2MB/s eta 0:00:01\n",
      "\u001b[?25hInstalling collected packages: pip\n",
      "  Found existing installation: pip 19.2.2\n",
      "    Uninstalling pip-19.2.2:\n",
      "      Successfully uninstalled pip-19.2.2\n",
      "Successfully installed pip-19.2.3\n"
     ]
    }
   ],
   "source": [
    "!pip install --upgrade pip"
   ]
  },
  {
   "cell_type": "code",
   "execution_count": 18,
   "metadata": {},
   "outputs": [
    {
     "name": "stdout",
     "output_type": "stream",
     "text": [
      "Collecting dlib\n",
      "  Using cached https://files.pythonhosted.org/packages/1e/62/aacb236d21fbd08148b1d517d58a9d80ea31bdcd386d26f21f8b23b1eb28/dlib-19.18.0.tar.gz\n",
      "Building wheels for collected packages: dlib\n",
      "  Building wheel for dlib (setup.py) ... \u001b[?25lerror\n",
      "\u001b[31m  ERROR: Command errored out with exit status 1:\n",
      "   command: /anaconda3/bin/python -u -c 'import sys, setuptools, tokenize; sys.argv[0] = '\"'\"'/private/var/folders/bj/vw3ws1gd13n_t17ytvhdzwww0000gn/T/pip-install-espbaknb/dlib/setup.py'\"'\"'; __file__='\"'\"'/private/var/folders/bj/vw3ws1gd13n_t17ytvhdzwww0000gn/T/pip-install-espbaknb/dlib/setup.py'\"'\"';f=getattr(tokenize, '\"'\"'open'\"'\"', open)(__file__);code=f.read().replace('\"'\"'\\r\\n'\"'\"', '\"'\"'\\n'\"'\"');f.close();exec(compile(code, __file__, '\"'\"'exec'\"'\"'))' bdist_wheel -d /private/var/folders/bj/vw3ws1gd13n_t17ytvhdzwww0000gn/T/pip-wheel-o1y3w917 --python-tag cp37\n",
      "       cwd: /private/var/folders/bj/vw3ws1gd13n_t17ytvhdzwww0000gn/T/pip-install-espbaknb/dlib/\n",
      "  Complete output (53 lines):\n",
      "  running bdist_wheel\n",
      "  running build\n",
      "  running build_py\n",
      "  package init file 'dlib/__init__.py' not found (or not a regular file)\n",
      "  running build_ext\n",
      "  Traceback (most recent call last):\n",
      "    File \"/private/var/folders/bj/vw3ws1gd13n_t17ytvhdzwww0000gn/T/pip-install-espbaknb/dlib/setup.py\", line 120, in get_cmake_version\n",
      "      out = subprocess.check_output(['cmake', '--version'])\n",
      "    File \"/anaconda3/lib/python3.7/subprocess.py\", line 395, in check_output\n",
      "      **kwargs).stdout\n",
      "    File \"/anaconda3/lib/python3.7/subprocess.py\", line 472, in run\n",
      "      with Popen(*popenargs, **kwargs) as process:\n",
      "    File \"/anaconda3/lib/python3.7/subprocess.py\", line 775, in __init__\n",
      "      restore_signals, start_new_session)\n",
      "    File \"/anaconda3/lib/python3.7/subprocess.py\", line 1522, in _execute_child\n",
      "      raise child_exception_type(errno_num, err_msg, err_filename)\n",
      "  FileNotFoundError: [Errno 2] No such file or directory: 'cmake': 'cmake'\n",
      "  \n",
      "  During handling of the above exception, another exception occurred:\n",
      "  \n",
      "  Traceback (most recent call last):\n",
      "    File \"<string>\", line 1, in <module>\n",
      "    File \"/private/var/folders/bj/vw3ws1gd13n_t17ytvhdzwww0000gn/T/pip-install-espbaknb/dlib/setup.py\", line 261, in <module>\n",
      "      'Topic :: Software Development',\n",
      "    File \"/Users/zhongyizhang/env/lib/python3.7/site-packages/setuptools/__init__.py\", line 145, in setup\n",
      "      return distutils.core.setup(**attrs)\n",
      "    File \"/anaconda3/lib/python3.7/distutils/core.py\", line 148, in setup\n",
      "      dist.run_commands()\n",
      "    File \"/anaconda3/lib/python3.7/distutils/dist.py\", line 966, in run_commands\n",
      "      self.run_command(cmd)\n",
      "    File \"/anaconda3/lib/python3.7/distutils/dist.py\", line 985, in run_command\n",
      "      cmd_obj.run()\n",
      "    File \"/Users/zhongyizhang/env/lib/python3.7/site-packages/wheel/bdist_wheel.py\", line 192, in run\n",
      "      self.run_command('build')\n",
      "    File \"/anaconda3/lib/python3.7/distutils/cmd.py\", line 313, in run_command\n",
      "      self.distribution.run_command(command)\n",
      "    File \"/anaconda3/lib/python3.7/distutils/dist.py\", line 985, in run_command\n",
      "      cmd_obj.run()\n",
      "    File \"/anaconda3/lib/python3.7/distutils/command/build.py\", line 135, in run\n",
      "      self.run_command(cmd_name)\n",
      "    File \"/anaconda3/lib/python3.7/distutils/cmd.py\", line 313, in run_command\n",
      "      self.distribution.run_command(command)\n",
      "    File \"/anaconda3/lib/python3.7/distutils/dist.py\", line 985, in run_command\n",
      "      cmd_obj.run()\n",
      "    File \"/private/var/folders/bj/vw3ws1gd13n_t17ytvhdzwww0000gn/T/pip-install-espbaknb/dlib/setup.py\", line 129, in run\n",
      "      cmake_version = self.get_cmake_version()\n",
      "    File \"/private/var/folders/bj/vw3ws1gd13n_t17ytvhdzwww0000gn/T/pip-install-espbaknb/dlib/setup.py\", line 125, in get_cmake_version\n",
      "      \"\\n*******************************************************************\\n\")\n",
      "  RuntimeError:\n",
      "  *******************************************************************\n",
      "   CMake must be installed to build the following extensions: dlib\n",
      "  *******************************************************************\n",
      "  \n",
      "  ----------------------------------------\u001b[0m\n",
      "\u001b[31m  ERROR: Failed building wheel for dlib\u001b[0m\n",
      "\u001b[?25h  Running setup.py clean for dlib\n",
      "Failed to build dlib\n",
      "Installing collected packages: dlib\n",
      "  Running setup.py install for dlib ... \u001b[?25lerror\n",
      "\u001b[31m    ERROR: Command errored out with exit status 1:\n",
      "     command: /anaconda3/bin/python -u -c 'import sys, setuptools, tokenize; sys.argv[0] = '\"'\"'/private/var/folders/bj/vw3ws1gd13n_t17ytvhdzwww0000gn/T/pip-install-espbaknb/dlib/setup.py'\"'\"'; __file__='\"'\"'/private/var/folders/bj/vw3ws1gd13n_t17ytvhdzwww0000gn/T/pip-install-espbaknb/dlib/setup.py'\"'\"';f=getattr(tokenize, '\"'\"'open'\"'\"', open)(__file__);code=f.read().replace('\"'\"'\\r\\n'\"'\"', '\"'\"'\\n'\"'\"');f.close();exec(compile(code, __file__, '\"'\"'exec'\"'\"'))' install --record /private/var/folders/bj/vw3ws1gd13n_t17ytvhdzwww0000gn/T/pip-record-0x9mekco/install-record.txt --single-version-externally-managed --compile --install-headers /Users/zhongyizhang/env/include/site/python3.7/dlib\n",
      "         cwd: /private/var/folders/bj/vw3ws1gd13n_t17ytvhdzwww0000gn/T/pip-install-espbaknb/dlib/\n",
      "    Complete output (55 lines):\n",
      "    running install\n",
      "    running build\n",
      "    running build_py\n",
      "    package init file 'dlib/__init__.py' not found (or not a regular file)\n",
      "    running build_ext\n",
      "    Traceback (most recent call last):\n",
      "      File \"/private/var/folders/bj/vw3ws1gd13n_t17ytvhdzwww0000gn/T/pip-install-espbaknb/dlib/setup.py\", line 120, in get_cmake_version\n",
      "        out = subprocess.check_output(['cmake', '--version'])\n",
      "      File \"/anaconda3/lib/python3.7/subprocess.py\", line 395, in check_output\n",
      "        **kwargs).stdout\n",
      "      File \"/anaconda3/lib/python3.7/subprocess.py\", line 472, in run\n",
      "        with Popen(*popenargs, **kwargs) as process:\n",
      "      File \"/anaconda3/lib/python3.7/subprocess.py\", line 775, in __init__\n",
      "        restore_signals, start_new_session)\n",
      "      File \"/anaconda3/lib/python3.7/subprocess.py\", line 1522, in _execute_child\n",
      "        raise child_exception_type(errno_num, err_msg, err_filename)\n",
      "    FileNotFoundError: [Errno 2] No such file or directory: 'cmake': 'cmake'\n",
      "    \n",
      "    During handling of the above exception, another exception occurred:\n",
      "    \n",
      "    Traceback (most recent call last):\n",
      "      File \"<string>\", line 1, in <module>\n",
      "      File \"/private/var/folders/bj/vw3ws1gd13n_t17ytvhdzwww0000gn/T/pip-install-espbaknb/dlib/setup.py\", line 261, in <module>\n",
      "        'Topic :: Software Development',\n",
      "      File \"/Users/zhongyizhang/env/lib/python3.7/site-packages/setuptools/__init__.py\", line 145, in setup\n",
      "        return distutils.core.setup(**attrs)\n",
      "      File \"/anaconda3/lib/python3.7/distutils/core.py\", line 148, in setup\n",
      "        dist.run_commands()\n",
      "      File \"/anaconda3/lib/python3.7/distutils/dist.py\", line 966, in run_commands\n",
      "        self.run_command(cmd)\n",
      "      File \"/anaconda3/lib/python3.7/distutils/dist.py\", line 985, in run_command\n",
      "        cmd_obj.run()\n",
      "      File \"/Users/zhongyizhang/env/lib/python3.7/site-packages/setuptools/command/install.py\", line 61, in run\n",
      "        return orig.install.run(self)\n",
      "      File \"/anaconda3/lib/python3.7/distutils/command/install.py\", line 545, in run\n",
      "        self.run_command('build')\n",
      "      File \"/anaconda3/lib/python3.7/distutils/cmd.py\", line 313, in run_command\n",
      "        self.distribution.run_command(command)\n",
      "      File \"/anaconda3/lib/python3.7/distutils/dist.py\", line 985, in run_command\n",
      "        cmd_obj.run()\n",
      "      File \"/anaconda3/lib/python3.7/distutils/command/build.py\", line 135, in run\n",
      "        self.run_command(cmd_name)\n",
      "      File \"/anaconda3/lib/python3.7/distutils/cmd.py\", line 313, in run_command\n",
      "        self.distribution.run_command(command)\n",
      "      File \"/anaconda3/lib/python3.7/distutils/dist.py\", line 985, in run_command\n",
      "        cmd_obj.run()\n",
      "      File \"/private/var/folders/bj/vw3ws1gd13n_t17ytvhdzwww0000gn/T/pip-install-espbaknb/dlib/setup.py\", line 129, in run\n",
      "        cmake_version = self.get_cmake_version()\n",
      "      File \"/private/var/folders/bj/vw3ws1gd13n_t17ytvhdzwww0000gn/T/pip-install-espbaknb/dlib/setup.py\", line 125, in get_cmake_version\n",
      "        \"\\n*******************************************************************\\n\")\n",
      "    RuntimeError:\n",
      "    *******************************************************************\n",
      "     CMake must be installed to build the following extensions: dlib\n",
      "    *******************************************************************\n",
      "    \n",
      "    ----------------------------------------\u001b[0m\n"
     ]
    },
    {
     "name": "stdout",
     "output_type": "stream",
     "text": [
      "\u001b[31mERROR: Command errored out with exit status 1: /anaconda3/bin/python -u -c 'import sys, setuptools, tokenize; sys.argv[0] = '\"'\"'/private/var/folders/bj/vw3ws1gd13n_t17ytvhdzwww0000gn/T/pip-install-espbaknb/dlib/setup.py'\"'\"'; __file__='\"'\"'/private/var/folders/bj/vw3ws1gd13n_t17ytvhdzwww0000gn/T/pip-install-espbaknb/dlib/setup.py'\"'\"';f=getattr(tokenize, '\"'\"'open'\"'\"', open)(__file__);code=f.read().replace('\"'\"'\\r\\n'\"'\"', '\"'\"'\\n'\"'\"');f.close();exec(compile(code, __file__, '\"'\"'exec'\"'\"'))' install --record /private/var/folders/bj/vw3ws1gd13n_t17ytvhdzwww0000gn/T/pip-record-0x9mekco/install-record.txt --single-version-externally-managed --compile --install-headers /Users/zhongyizhang/env/include/site/python3.7/dlib Check the logs for full command output.\u001b[0m\n",
      "\u001b[?25h"
     ]
    }
   ],
   "source": [
    "!pip install dlib"
   ]
  },
  {
   "cell_type": "code",
   "execution_count": null,
   "metadata": {},
   "outputs": [],
   "source": []
  },
  {
   "cell_type": "code",
   "execution_count": null,
   "metadata": {},
   "outputs": [],
   "source": []
  },
  {
   "cell_type": "code",
   "execution_count": null,
   "metadata": {},
   "outputs": [],
   "source": []
  },
  {
   "cell_type": "code",
   "execution_count": null,
   "metadata": {},
   "outputs": [],
   "source": []
  },
  {
   "cell_type": "code",
   "execution_count": null,
   "metadata": {},
   "outputs": [],
   "source": []
  }
 ],
 "metadata": {
  "kernelspec": {
   "display_name": "Python 3",
   "language": "python",
   "name": "python3"
  },
  "language_info": {
   "codemirror_mode": {
    "name": "ipython",
    "version": 3
   },
   "file_extension": ".py",
   "mimetype": "text/x-python",
   "name": "python",
   "nbconvert_exporter": "python",
   "pygments_lexer": "ipython3",
   "version": "3.7.4"
  }
 },
 "nbformat": 4,
 "nbformat_minor": 2
}
